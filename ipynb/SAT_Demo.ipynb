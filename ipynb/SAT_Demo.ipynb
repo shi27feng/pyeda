{
 "cells": [
  {
   "cell_type": "code",
   "execution_count": null,
   "metadata": {
    "collapsed": false
   },
   "outputs": [],
   "source": [
    "%install_ext https://raw.github.com/cjdrake/ipython-magic/master/gvmagic.py"
   ]
  },
  {
   "cell_type": "code",
   "execution_count": 1,
   "metadata": {
    "collapsed": false
   },
   "outputs": [],
   "source": [
    "%load_ext gvmagic"
   ]
  },
  {
   "cell_type": "code",
   "execution_count": 2,
   "metadata": {
    "collapsed": true
   },
   "outputs": [],
   "source": [
    "from pyeda.inter import *"
   ]
  },
  {
   "cell_type": "code",
   "execution_count": 3,
   "metadata": {
    "collapsed": true
   },
   "outputs": [],
   "source": [
    "from pyeda.logic.addition import ripple_carry_add as RCA\n",
    "from pyeda.logic.addition import kogge_stone_add as KSA"
   ]
  },
  {
   "cell_type": "code",
   "execution_count": 4,
   "metadata": {
    "collapsed": true
   },
   "outputs": [],
   "source": [
    "A = exprvars('a', 32)\n",
    "B = exprvars('b', 32)"
   ]
  },
  {
   "cell_type": "code",
   "execution_count": 5,
   "metadata": {
    "collapsed": false
   },
   "outputs": [],
   "source": [
    "S_rca, C_rca = RCA(A, B)\n",
    "S_ksa, C_ksa = KSA(A, B)"
   ]
  },
  {
   "cell_type": "markdown",
   "metadata": {},
   "source": [
    "The expression tree is very different:"
   ]
  },
  {
   "cell_type": "code",
   "execution_count": 6,
   "metadata": {
    "collapsed": false
   },
   "outputs": [
    {
     "output_type": "display_data",
     "data": {
      "text/plain": "<IPython.core.display.SVG object>",
      "image/svg+xml": "<svg xmlns=\"http://www.w3.org/2000/svg\" xmlns:xlink=\"http://www.w3.org/1999/xlink\" width=\"305pt\" height=\"281pt\" viewBox=\"0.00 0.00 305.00 280.69\">\n<g id=\"graph0\" class=\"graph\" transform=\"scale(1 1) rotate(0) translate(4 276.69)\">\n<title>EXPR</title>\n<polygon fill=\"white\" stroke=\"transparent\" points=\"-4,4 -4,-276.69 301,-276.69 301,4 -4,4\"/>\n<!-- n5241152032 -->\n<g id=\"node1\" class=\"node\">\n<title>n5241152032</title>\n<polygon fill=\"none\" stroke=\"black\" points=\"54,-190.99 0,-190.99 0,-154.99 54,-154.99 54,-190.99\"/>\n<text text-anchor=\"middle\" x=\"27\" y=\"-169.29\" font-family=\"Times,serif\" font-size=\"14.00\">a[2]</text>\n</g>\n<!-- n5241026176 -->\n<g id=\"node11\" class=\"node\">\n<title>n5241026176</title>\n<ellipse fill=\"none\" stroke=\"black\" cx=\"99\" cy=\"-249.94\" rx=\"23\" ry=\"23\"/>\n<text text-anchor=\"middle\" x=\"99\" y=\"-246.24\" font-family=\"Times,serif\" font-size=\"14.00\">xor</text>\n</g>\n<!-- n5241152032&#45;&#45;n5241026176 -->\n<g id=\"edge12\" class=\"edge\">\n<title>n5241152032--n5241026176</title>\n<path fill=\"none\" stroke=\"black\" d=\"M43.34,-191C55.45,-203.61 71.85,-220.68 83.71,-233.03\"/>\n</g>\n<!-- n5241185168 -->\n<g id=\"node2\" class=\"node\">\n<title>n5241185168</title>\n<polygon fill=\"none\" stroke=\"black\" points=\"126,-190.99 72,-190.99 72,-154.99 126,-154.99 126,-190.99\"/>\n<text text-anchor=\"middle\" x=\"99\" y=\"-169.29\" font-family=\"Times,serif\" font-size=\"14.00\">b[2]</text>\n</g>\n<!-- n5241185168&#45;&#45;n5241026176 -->\n<g id=\"edge13\" class=\"edge\">\n<title>n5241185168--n5241026176</title>\n<path fill=\"none\" stroke=\"black\" d=\"M99,-191C99,-201.71 99,-215.64 99,-227.16\"/>\n</g>\n<!-- n5241152000 -->\n<g id=\"node3\" class=\"node\">\n<title>n5241152000</title>\n<polygon fill=\"none\" stroke=\"black\" points=\"153,-36 99,-36 99,0 153,0 153,-36\"/>\n<text text-anchor=\"middle\" x=\"126\" y=\"-14.3\" font-family=\"Times,serif\" font-size=\"14.00\">a[1]</text>\n</g>\n<!-- n5241087024 -->\n<g id=\"node5\" class=\"node\">\n<title>n5241087024</title>\n<ellipse fill=\"none\" stroke=\"black\" cx=\"97\" cy=\"-95.4\" rx=\"23.3\" ry=\"23.3\"/>\n<text text-anchor=\"middle\" x=\"97\" y=\"-91.7\" font-family=\"Times,serif\" font-size=\"14.00\">and</text>\n</g>\n<!-- n5241152000&#45;&#45;n5241087024 -->\n<g id=\"edge1\" class=\"edge\">\n<title>n5241152000--n5241087024</title>\n<path fill=\"none\" stroke=\"black\" d=\"M119.42,-36.11C115.17,-47.14 109.62,-61.58 105.11,-73.32\"/>\n</g>\n<!-- n5241026304 -->\n<g id=\"node8\" class=\"node\">\n<title>n5241026304</title>\n<ellipse fill=\"none\" stroke=\"black\" cx=\"227\" cy=\"-95.4\" rx=\"23.3\" ry=\"23.3\"/>\n<text text-anchor=\"middle\" x=\"227\" y=\"-91.7\" font-family=\"Times,serif\" font-size=\"14.00\">and</text>\n</g>\n<!-- n5241152000&#45;&#45;n5241026304 -->\n<g id=\"edge4\" class=\"edge\">\n<title>n5241152000--n5241026304</title>\n<path fill=\"none\" stroke=\"black\" d=\"M148.92,-36.11C166.96,-49.58 191.78,-68.11 208.55,-80.63\"/>\n</g>\n<!-- n5241185136 -->\n<g id=\"node4\" class=\"node\">\n<title>n5241185136</title>\n<polygon fill=\"none\" stroke=\"black\" points=\"81,-36 27,-36 27,0 81,0 81,-36\"/>\n<text text-anchor=\"middle\" x=\"54\" y=\"-14.3\" font-family=\"Times,serif\" font-size=\"14.00\">b[1]</text>\n</g>\n<!-- n5241185136&#45;&#45;n5241087024 -->\n<g id=\"edge2\" class=\"edge\">\n<title>n5241185136--n5241087024</title>\n<path fill=\"none\" stroke=\"black\" d=\"M63.76,-36.11C70.3,-47.58 78.93,-62.72 85.76,-74.69\"/>\n</g>\n<!-- n5241026432 -->\n<g id=\"node9\" class=\"node\">\n<title>n5241026432</title>\n<ellipse fill=\"none\" stroke=\"black\" cx=\"162\" cy=\"-95.4\" rx=\"23.3\" ry=\"23.3\"/>\n<text text-anchor=\"middle\" x=\"162\" y=\"-91.7\" font-family=\"Times,serif\" font-size=\"14.00\">and</text>\n</g>\n<!-- n5241185136&#45;&#45;n5241026432 -->\n<g id=\"edge8\" class=\"edge\">\n<title>n5241185136--n5241026432</title>\n<path fill=\"none\" stroke=\"black\" d=\"M78.51,-36.11C98.05,-49.75 125.02,-68.58 142.97,-81.11\"/>\n</g>\n<!-- n5241026208 -->\n<g id=\"node10\" class=\"node\">\n<title>n5241026208</title>\n<ellipse fill=\"none\" stroke=\"black\" cx=\"162\" cy=\"-172.99\" rx=\"18.4\" ry=\"18.4\"/>\n<text text-anchor=\"middle\" x=\"162\" y=\"-169.29\" font-family=\"Times,serif\" font-size=\"14.00\">or</text>\n</g>\n<!-- n5241087024&#45;&#45;n5241026208 -->\n<g id=\"edge9\" class=\"edge\">\n<title>n5241087024--n5241026208</title>\n<path fill=\"none\" stroke=\"black\" d=\"M112.08,-113.93C123.78,-127.54 139.76,-146.12 150.45,-158.57\"/>\n</g>\n<!-- n5241105968 -->\n<g id=\"node6\" class=\"node\">\n<title>n5241105968</title>\n<polygon fill=\"none\" stroke=\"black\" points=\"225,-36 171,-36 171,0 225,0 225,-36\"/>\n<text text-anchor=\"middle\" x=\"198\" y=\"-14.3\" font-family=\"Times,serif\" font-size=\"14.00\">a[0]</text>\n</g>\n<!-- n5241105968&#45;&#45;n5241026304 -->\n<g id=\"edge3\" class=\"edge\">\n<title>n5241105968--n5241026304</title>\n<path fill=\"none\" stroke=\"black\" d=\"M204.58,-36.11C208.83,-47.14 214.38,-61.58 218.89,-73.32\"/>\n</g>\n<!-- n5241105968&#45;&#45;n5241026432 -->\n<g id=\"edge6\" class=\"edge\">\n<title>n5241105968--n5241026432</title>\n<path fill=\"none\" stroke=\"black\" d=\"M189.83,-36.11C184.48,-47.32 177.45,-62.03 171.8,-73.87\"/>\n</g>\n<!-- n5241185104 -->\n<g id=\"node7\" class=\"node\">\n<title>n5241185104</title>\n<polygon fill=\"none\" stroke=\"black\" points=\"297,-36 243,-36 243,0 297,0 297,-36\"/>\n<text text-anchor=\"middle\" x=\"270\" y=\"-14.3\" font-family=\"Times,serif\" font-size=\"14.00\">b[0]</text>\n</g>\n<!-- n5241185104&#45;&#45;n5241026304 -->\n<g id=\"edge5\" class=\"edge\">\n<title>n5241185104--n5241026304</title>\n<path fill=\"none\" stroke=\"black\" d=\"M260.24,-36.11C253.7,-47.58 245.07,-62.72 238.24,-74.69\"/>\n</g>\n<!-- n5241185104&#45;&#45;n5241026432 -->\n<g id=\"edge7\" class=\"edge\">\n<title>n5241185104--n5241026432</title>\n<path fill=\"none\" stroke=\"black\" d=\"M245.49,-36.11C225.95,-49.75 198.98,-68.58 181.03,-81.11\"/>\n</g>\n<!-- n5241026304&#45;&#45;n5241026208 -->\n<g id=\"edge10\" class=\"edge\">\n<title>n5241026304--n5241026208</title>\n<path fill=\"none\" stroke=\"black\" d=\"M211.92,-113.93C200.22,-127.54 184.24,-146.12 173.55,-158.57\"/>\n</g>\n<!-- n5241026432&#45;&#45;n5241026208 -->\n<g id=\"edge11\" class=\"edge\">\n<title>n5241026432--n5241026208</title>\n<path fill=\"none\" stroke=\"black\" d=\"M162,-119.08C162,-130.39 162,-143.86 162,-154.37\"/>\n</g>\n<!-- n5241026208&#45;&#45;n5241026176 -->\n<g id=\"edge14\" class=\"edge\">\n<title>n5241026208--n5241026176</title>\n<path fill=\"none\" stroke=\"black\" d=\"M150.74,-187.39C140.26,-199.86 124.61,-218.48 113.26,-231.98\"/>\n</g>\n</g>\n</svg>"
     },
     "metadata": {}
    },
    {
     "output_type": "display_data",
     "data": {
      "text/plain": "<IPython.core.display.SVG object>",
      "image/svg+xml": "<svg xmlns=\"http://www.w3.org/2000/svg\" xmlns:xlink=\"http://www.w3.org/1999/xlink\" width=\"326pt\" height=\"363pt\" viewBox=\"0.00 0.00 325.75 363.48\">\n<g id=\"graph0\" class=\"graph\" transform=\"scale(1 1) rotate(0) translate(4 359.48)\">\n<title>EXPR</title>\n<polygon fill=\"white\" stroke=\"transparent\" points=\"-4,4 -4,-359.48 321.75,-359.48 321.75,4 -4,4\"/>\n<!-- n5241152032 -->\n<g id=\"node1\" class=\"node\">\n<title>n5241152032</title>\n<polygon fill=\"none\" stroke=\"black\" points=\"54,-273.79 0,-273.79 0,-237.79 54,-237.79 54,-273.79\"/>\n<text text-anchor=\"middle\" x=\"27\" y=\"-252.09\" font-family=\"Times,serif\" font-size=\"14.00\">a[2]</text>\n</g>\n<!-- n5241188144 -->\n<g id=\"node11\" class=\"node\">\n<title>n5241188144</title>\n<ellipse fill=\"none\" stroke=\"black\" cx=\"99\" cy=\"-332.74\" rx=\"23\" ry=\"23\"/>\n<text text-anchor=\"middle\" x=\"99\" y=\"-329.04\" font-family=\"Times,serif\" font-size=\"14.00\">xor</text>\n</g>\n<!-- n5241152032&#45;&#45;n5241188144 -->\n<g id=\"edge10\" class=\"edge\">\n<title>n5241152032--n5241188144</title>\n<path fill=\"none\" stroke=\"black\" d=\"M43.34,-273.8C55.45,-286.41 71.85,-303.48 83.71,-315.82\"/>\n</g>\n<!-- n5241185168 -->\n<g id=\"node2\" class=\"node\">\n<title>n5241185168</title>\n<polygon fill=\"none\" stroke=\"black\" points=\"126,-273.79 72,-273.79 72,-237.79 126,-237.79 126,-273.79\"/>\n<text text-anchor=\"middle\" x=\"99\" y=\"-252.09\" font-family=\"Times,serif\" font-size=\"14.00\">b[2]</text>\n</g>\n<!-- n5241185168&#45;&#45;n5241188144 -->\n<g id=\"edge11\" class=\"edge\">\n<title>n5241185168--n5241188144</title>\n<path fill=\"none\" stroke=\"black\" d=\"M99,-273.8C99,-284.51 99,-298.44 99,-309.95\"/>\n</g>\n<!-- n5241152000 -->\n<g id=\"node3\" class=\"node\">\n<title>n5241152000</title>\n<polygon fill=\"none\" stroke=\"black\" points=\"182,-36 128,-36 128,0 182,0 182,-36\"/>\n<text text-anchor=\"middle\" x=\"155\" y=\"-14.3\" font-family=\"Times,serif\" font-size=\"14.00\">a[1]</text>\n</g>\n<!-- n5241026272 -->\n<g id=\"node5\" class=\"node\">\n<title>n5241026272</title>\n<ellipse fill=\"none\" stroke=\"black\" cx=\"87\" cy=\"-95.4\" rx=\"23.3\" ry=\"23.3\"/>\n<text text-anchor=\"middle\" x=\"87\" y=\"-91.7\" font-family=\"Times,serif\" font-size=\"14.00\">and</text>\n</g>\n<!-- n5241152000&#45;&#45;n5241026272 -->\n<g id=\"edge1\" class=\"edge\">\n<title>n5241152000--n5241026272</title>\n<path fill=\"none\" stroke=\"black\" d=\"M139.57,-36.11C128.44,-48.45 113.48,-65.03 102.37,-77.36\"/>\n</g>\n<!-- n5241026496 -->\n<g id=\"node8\" class=\"node\">\n<title>n5241026496</title>\n<ellipse fill=\"none\" stroke=\"black\" cx=\"295\" cy=\"-95.4\" rx=\"23\" ry=\"23\"/>\n<text text-anchor=\"middle\" x=\"295\" y=\"-91.7\" font-family=\"Times,serif\" font-size=\"14.00\">xor</text>\n</g>\n<!-- n5241152000&#45;&#45;n5241026496 -->\n<g id=\"edge3\" class=\"edge\">\n<title>n5241152000--n5241026496</title>\n<path fill=\"none\" stroke=\"black\" d=\"M182.24,-30.95C204.45,-41.02 236.38,-56.28 263,-72 267.67,-74.76 272.55,-77.98 277.05,-81.11\"/>\n</g>\n<!-- n5241185136 -->\n<g id=\"node4\" class=\"node\">\n<title>n5241185136</title>\n<polygon fill=\"none\" stroke=\"black\" points=\"288,-36 234,-36 234,0 288,0 288,-36\"/>\n<text text-anchor=\"middle\" x=\"261\" y=\"-14.3\" font-family=\"Times,serif\" font-size=\"14.00\">b[1]</text>\n</g>\n<!-- n5241185136&#45;&#45;n5241026272 -->\n<g id=\"edge2\" class=\"edge\">\n<title>n5241185136--n5241026272</title>\n<path fill=\"none\" stroke=\"black\" d=\"M233.96,-26.84C204.73,-35.82 157.2,-51.92 119,-72 114.32,-74.46 109.52,-77.5 105.11,-80.54\"/>\n</g>\n<!-- n5241185136&#45;&#45;n5241026496 -->\n<g id=\"edge4\" class=\"edge\">\n<title>n5241185136--n5241026496</title>\n<path fill=\"none\" stroke=\"black\" d=\"M268.72,-36.11C273.85,-47.49 280.61,-62.49 285.99,-74.42\"/>\n</g>\n<!-- n5241026544 -->\n<g id=\"node10\" class=\"node\">\n<title>n5241026544</title>\n<ellipse fill=\"none\" stroke=\"black\" cx=\"162\" cy=\"-255.79\" rx=\"18.4\" ry=\"18.4\"/>\n<text text-anchor=\"middle\" x=\"162\" y=\"-252.09\" font-family=\"Times,serif\" font-size=\"14.00\">or</text>\n</g>\n<!-- n5241026272&#45;&#45;n5241026544 -->\n<g id=\"edge8\" class=\"edge\">\n<title>n5241026272--n5241026544</title>\n<path fill=\"none\" stroke=\"black\" d=\"M96.65,-116.78C111.76,-148.7 140.7,-209.81 154.42,-238.79\"/>\n</g>\n<!-- n5241105968 -->\n<g id=\"node6\" class=\"node\">\n<title>n5241105968</title>\n<polygon fill=\"none\" stroke=\"black\" points=\"182,-113.4 128,-113.4 128,-77.4 182,-77.4 182,-113.4\"/>\n<text text-anchor=\"middle\" x=\"155\" y=\"-91.7\" font-family=\"Times,serif\" font-size=\"14.00\">a[0]</text>\n</g>\n<!-- n5241188080 -->\n<g id=\"node9\" class=\"node\">\n<title>n5241188080</title>\n<ellipse fill=\"none\" stroke=\"black\" cx=\"191\" cy=\"-178.19\" rx=\"23.3\" ry=\"23.3\"/>\n<text text-anchor=\"middle\" x=\"191\" y=\"-174.49\" font-family=\"Times,serif\" font-size=\"14.00\">and</text>\n</g>\n<!-- n5241105968&#45;&#45;n5241188080 -->\n<g id=\"edge5\" class=\"edge\">\n<title>n5241105968--n5241188080</title>\n<path fill=\"none\" stroke=\"black\" d=\"M162.63,-113.53C168.25,-126.13 175.9,-143.31 181.85,-156.65\"/>\n</g>\n<!-- n5241185104 -->\n<g id=\"node7\" class=\"node\">\n<title>n5241185104</title>\n<polygon fill=\"none\" stroke=\"black\" points=\"254,-113.4 200,-113.4 200,-77.4 254,-77.4 254,-113.4\"/>\n<text text-anchor=\"middle\" x=\"227\" y=\"-91.7\" font-family=\"Times,serif\" font-size=\"14.00\">b[0]</text>\n</g>\n<!-- n5241185104&#45;&#45;n5241188080 -->\n<g id=\"edge6\" class=\"edge\">\n<title>n5241185104--n5241188080</title>\n<path fill=\"none\" stroke=\"black\" d=\"M219.37,-113.53C213.75,-126.13 206.1,-143.31 200.15,-156.65\"/>\n</g>\n<!-- n5241026496&#45;&#45;n5241188080 -->\n<g id=\"edge7\" class=\"edge\">\n<title>n5241026496--n5241188080</title>\n<path fill=\"none\" stroke=\"black\" d=\"M277.36,-110.1C258.35,-124.87 228.25,-148.25 209.08,-163.15\"/>\n</g>\n<!-- n5241188080&#45;&#45;n5241026544 -->\n<g id=\"edge9\" class=\"edge\">\n<title>n5241188080--n5241026544</title>\n<path fill=\"none\" stroke=\"black\" d=\"M182.92,-200.25C178.3,-212.31 172.58,-227.22 168.29,-238.4\"/>\n</g>\n<!-- n5241026544&#45;&#45;n5241188144 -->\n<g id=\"edge12\" class=\"edge\">\n<title>n5241026544--n5241188144</title>\n<path fill=\"none\" stroke=\"black\" d=\"M150.74,-270.19C140.26,-282.65 124.61,-301.28 113.26,-314.77\"/>\n</g>\n</g>\n</svg>"
     },
     "metadata": {}
    }
   ],
   "source": [
    "%dotobjs S_rca[2].simplify(), S_ksa[2].simplify()"
   ]
  },
  {
   "cell_type": "markdown",
   "metadata": {},
   "source": [
    "If `XOR(f, g)` is UNSAT, functions `f` and `g` are equivalent.\n",
    "\n",
    "But sum bit 9 is a deep expression.\n",
    "Converting to CNF is impossible, so use backtracking:"
   ]
  },
  {
   "cell_type": "code",
   "execution_count": 7,
   "metadata": {
    "collapsed": false
   },
   "outputs": [],
   "source": [
    "f = Xor(S_rca[9], S_ksa[9])"
   ]
  },
  {
   "cell_type": "code",
   "execution_count": 8,
   "metadata": {
    "collapsed": false
   },
   "outputs": [
    {
     "output_type": "stream",
     "name": "stdout",
     "text": [
      "768 ms ± 5.24 ms per loop (mean ± std. dev. of 7 runs, 1 loop each)\n"
     ]
    }
   ],
   "source": [
    "%timeit f.satisfy_one()"
   ]
  },
  {
   "cell_type": "markdown",
   "metadata": {},
   "source": [
    "Let's see if we can do better using the Tseitin transformation,\n",
    "and PicoSAT extension:"
   ]
  },
  {
   "cell_type": "code",
   "execution_count": null,
   "metadata": {
    "collapsed": true
   },
   "outputs": [],
   "source": [
    "g = f.tseitin()"
   ]
  },
  {
   "cell_type": "code",
   "execution_count": null,
   "metadata": {
    "collapsed": false
   },
   "outputs": [],
   "source": [
    "%timeit g.satisfy_one()"
   ]
  },
  {
   "cell_type": "markdown",
   "metadata": {},
   "source": [
    "Success!\n",
    "\n",
    "Verify that both functions returned UNSAT:"
   ]
  },
  {
   "cell_type": "code",
   "execution_count": null,
   "metadata": {
    "collapsed": false
   },
   "outputs": [],
   "source": [
    "assert f.satisfy_one() is None and g.satisfy_one() is None"
   ]
  },
  {
   "cell_type": "code",
   "execution_count": null,
   "metadata": {
    "collapsed": true
   },
   "outputs": [],
   "source": []
  },
  {
   "source": [],
   "cell_type": "markdown",
   "metadata": {}
  }
 ],
 "metadata": {
  "kernelspec": {
   "display_name": "Python 3",
   "language": "python",
   "name": "python3"
  },
  "language_info": {
   "codemirror_mode": {
    "name": "ipython",
    "version": 3
   },
   "file_extension": ".py",
   "mimetype": "text/x-python",
   "name": "python",
   "nbconvert_exporter": "python",
   "pygments_lexer": "ipython3",
   "version": "3.8.6-final"
  }
 },
 "nbformat": 4,
 "nbformat_minor": 0
}